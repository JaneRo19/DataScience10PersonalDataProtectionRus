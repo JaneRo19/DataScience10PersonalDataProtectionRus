{
 "cells": [
  {
   "cell_type": "markdown",
   "metadata": {
    "toc": true
   },
   "source": [
    "<h1>Содержание<span class=\"tocSkip\"></span></h1>\n",
    "<div class=\"toc\"><ul class=\"toc-item\"><li><span><a href=\"#Загрузка-данных\" data-toc-modified-id=\"Загрузка-данных-1\"><span class=\"toc-item-num\">1&nbsp;&nbsp;</span>Загрузка данных</a></span><ul class=\"toc-item\"><li><span><a href=\"#Вывод\" data-toc-modified-id=\"Вывод-1.1\"><span class=\"toc-item-num\">1.1&nbsp;&nbsp;</span>Вывод</a></span></li></ul></li><li><span><a href=\"#Умножение-матриц\" data-toc-modified-id=\"Умножение-матриц-2\"><span class=\"toc-item-num\">2&nbsp;&nbsp;</span>Умножение матриц</a></span></li><li><span><a href=\"#Алгоритм-преобразования\" data-toc-modified-id=\"Алгоритм-преобразования-3\"><span class=\"toc-item-num\">3&nbsp;&nbsp;</span>Алгоритм преобразования</a></span></li><li><span><a href=\"#Проверка-алгоритма\" data-toc-modified-id=\"Проверка-алгоритма-4\"><span class=\"toc-item-num\">4&nbsp;&nbsp;</span>Проверка алгоритма</a></span><ul class=\"toc-item\"><li><span><a href=\"#Проверка-на-тестовой-выборке\" data-toc-modified-id=\"Проверка-на-тестовой-выборке-4.1\"><span class=\"toc-item-num\">4.1&nbsp;&nbsp;</span>Проверка на тестовой выборке</a></span></li></ul></li><li><span><a href=\"#Вывод\" data-toc-modified-id=\"Вывод-5\"><span class=\"toc-item-num\">5&nbsp;&nbsp;</span>Вывод</a></span></li><li><span><a href=\"#Чек-лист-проверки\" data-toc-modified-id=\"Чек-лист-проверки-6\"><span class=\"toc-item-num\">6&nbsp;&nbsp;</span>Чек-лист проверки</a></span></li></ul></div>"
   ]
  },
  {
   "cell_type": "markdown",
   "metadata": {},
   "source": [
    "# Защита персональных данных клиентов"
   ]
  },
  {
   "cell_type": "markdown",
   "metadata": {},
   "source": [
    "Вам нужно защитить данные клиентов страховой компании «Хоть потоп». Разработайте такой метод преобразования данных, чтобы по ним было сложно восстановить персональную информацию. Обоснуйте корректность его работы.\n",
    "\n",
    "Нужно защитить данные, чтобы при преобразовании качество моделей машинного обучения не ухудшилось. Подбирать наилучшую модель не требуется.\n",
    "\n",
    "В ходе выполнения данной работы будем придерживаться следующийх этапов:\n",
    "\n",
    "1) загрузим данные и проверим их корректоность. Если будут обнаружены какие-то ошибки или аномалии, то мы их исправим.\n",
    "\n",
    "2) проведем теоретическое доказательство ответов на поставленные ниже вопросы\n",
    "\n",
    "3) разработаем алгоритм преобразования\n",
    "\n",
    "4) реализуем данный алгоритм и проверим его на тестовой выборке\n",
    "\n",
    "5) дадим общий вывод."
   ]
  },
  {
   "cell_type": "markdown",
   "metadata": {},
   "source": [
    "## Загрузка данных"
   ]
  },
  {
   "cell_type": "code",
   "execution_count": 1,
   "metadata": {},
   "outputs": [],
   "source": [
    "# импортируем необходимые библиотеки\n",
    "import pandas as pd\n",
    "import numpy as np\n",
    "\n",
    "from sklearn.linear_model import LinearRegression\n",
    "from sklearn.metrics import r2_score\n",
    "from sklearn.model_selection import train_test_split"
   ]
  },
  {
   "cell_type": "code",
   "execution_count": 2,
   "metadata": {},
   "outputs": [],
   "source": [
    "# прочитаем данные\n",
    "data = pd.read_csv('....csv')"
   ]
  },
  {
   "cell_type": "code",
   "execution_count": 3,
   "metadata": {},
   "outputs": [
    {
     "data": {
      "text/html": [
       "<div>\n",
       "<style scoped>\n",
       "    .dataframe tbody tr th:only-of-type {\n",
       "        vertical-align: middle;\n",
       "    }\n",
       "\n",
       "    .dataframe tbody tr th {\n",
       "        vertical-align: top;\n",
       "    }\n",
       "\n",
       "    .dataframe thead th {\n",
       "        text-align: right;\n",
       "    }\n",
       "</style>\n",
       "<table border=\"1\" class=\"dataframe\">\n",
       "  <thead>\n",
       "    <tr style=\"text-align: right;\">\n",
       "      <th></th>\n",
       "      <th>Пол</th>\n",
       "      <th>Возраст</th>\n",
       "      <th>Зарплата</th>\n",
       "      <th>Члены семьи</th>\n",
       "      <th>Страховые выплаты</th>\n",
       "    </tr>\n",
       "  </thead>\n",
       "  <tbody>\n",
       "    <tr>\n",
       "      <th>0</th>\n",
       "      <td>1</td>\n",
       "      <td>41.0</td>\n",
       "      <td>49600.0</td>\n",
       "      <td>1</td>\n",
       "      <td>0</td>\n",
       "    </tr>\n",
       "    <tr>\n",
       "      <th>1</th>\n",
       "      <td>0</td>\n",
       "      <td>46.0</td>\n",
       "      <td>38000.0</td>\n",
       "      <td>1</td>\n",
       "      <td>1</td>\n",
       "    </tr>\n",
       "    <tr>\n",
       "      <th>2</th>\n",
       "      <td>0</td>\n",
       "      <td>29.0</td>\n",
       "      <td>21000.0</td>\n",
       "      <td>0</td>\n",
       "      <td>0</td>\n",
       "    </tr>\n",
       "    <tr>\n",
       "      <th>3</th>\n",
       "      <td>0</td>\n",
       "      <td>21.0</td>\n",
       "      <td>41700.0</td>\n",
       "      <td>2</td>\n",
       "      <td>0</td>\n",
       "    </tr>\n",
       "    <tr>\n",
       "      <th>4</th>\n",
       "      <td>1</td>\n",
       "      <td>28.0</td>\n",
       "      <td>26100.0</td>\n",
       "      <td>0</td>\n",
       "      <td>0</td>\n",
       "    </tr>\n",
       "    <tr>\n",
       "      <th>5</th>\n",
       "      <td>1</td>\n",
       "      <td>43.0</td>\n",
       "      <td>41000.0</td>\n",
       "      <td>2</td>\n",
       "      <td>1</td>\n",
       "    </tr>\n",
       "    <tr>\n",
       "      <th>6</th>\n",
       "      <td>1</td>\n",
       "      <td>39.0</td>\n",
       "      <td>39700.0</td>\n",
       "      <td>2</td>\n",
       "      <td>0</td>\n",
       "    </tr>\n",
       "    <tr>\n",
       "      <th>7</th>\n",
       "      <td>1</td>\n",
       "      <td>25.0</td>\n",
       "      <td>38600.0</td>\n",
       "      <td>4</td>\n",
       "      <td>0</td>\n",
       "    </tr>\n",
       "    <tr>\n",
       "      <th>8</th>\n",
       "      <td>1</td>\n",
       "      <td>36.0</td>\n",
       "      <td>49700.0</td>\n",
       "      <td>1</td>\n",
       "      <td>0</td>\n",
       "    </tr>\n",
       "    <tr>\n",
       "      <th>9</th>\n",
       "      <td>1</td>\n",
       "      <td>32.0</td>\n",
       "      <td>51700.0</td>\n",
       "      <td>1</td>\n",
       "      <td>0</td>\n",
       "    </tr>\n",
       "  </tbody>\n",
       "</table>\n",
       "</div>"
      ],
      "text/plain": [
       "   Пол  Возраст  Зарплата  Члены семьи  Страховые выплаты\n",
       "0    1     41.0   49600.0            1                  0\n",
       "1    0     46.0   38000.0            1                  1\n",
       "2    0     29.0   21000.0            0                  0\n",
       "3    0     21.0   41700.0            2                  0\n",
       "4    1     28.0   26100.0            0                  0\n",
       "5    1     43.0   41000.0            2                  1\n",
       "6    1     39.0   39700.0            2                  0\n",
       "7    1     25.0   38600.0            4                  0\n",
       "8    1     36.0   49700.0            1                  0\n",
       "9    1     32.0   51700.0            1                  0"
      ]
     },
     "execution_count": 3,
     "metadata": {},
     "output_type": "execute_result"
    }
   ],
   "source": [
    "# выведем первые 10 строк на экран\n",
    "data.head(10)"
   ]
  },
  {
   "cell_type": "code",
   "execution_count": 4,
   "metadata": {},
   "outputs": [
    {
     "data": {
      "text/plain": [
       "(5000, 5)"
      ]
     },
     "execution_count": 4,
     "metadata": {},
     "output_type": "execute_result"
    }
   ],
   "source": [
    "# определим размер таблицы\n",
    "data.shape"
   ]
  },
  {
   "cell_type": "code",
   "execution_count": 5,
   "metadata": {
    "scrolled": true
   },
   "outputs": [
    {
     "name": "stdout",
     "output_type": "stream",
     "text": [
      "<class 'pandas.core.frame.DataFrame'>\n",
      "RangeIndex: 5000 entries, 0 to 4999\n",
      "Data columns (total 5 columns):\n",
      " #   Column             Non-Null Count  Dtype  \n",
      "---  ------             --------------  -----  \n",
      " 0   Пол                5000 non-null   int64  \n",
      " 1   Возраст            5000 non-null   float64\n",
      " 2   Зарплата           5000 non-null   float64\n",
      " 3   Члены семьи        5000 non-null   int64  \n",
      " 4   Страховые выплаты  5000 non-null   int64  \n",
      "dtypes: float64(2), int64(3)\n",
      "memory usage: 195.4 KB\n"
     ]
    }
   ],
   "source": [
    "# выведем общую информацию\n",
    "data.info()"
   ]
  },
  {
   "cell_type": "markdown",
   "metadata": {},
   "source": [
    "В ходе анализа таблицы получили следующее:\n",
    "\n",
    "1) в таблице 5 столбцов и 5000 строк\n",
    "\n",
    "2) в таблице следующие столбцы:\n",
    "\n",
    "    - пол: тип данных int\n",
    "    - возраст: тип данных float\n",
    "    - зарплата: тип данных float\n",
    "    - члены семьи: тип данных int\n",
    "    - страховые выплаты(их количество): тип данных int"
   ]
  },
  {
   "cell_type": "code",
   "execution_count": 6,
   "metadata": {},
   "outputs": [
    {
     "data": {
      "text/plain": [
       "Index(['Пол', 'Возраст', 'Зарплата', 'Члены семьи', 'Страховые выплаты'], dtype='object')"
      ]
     },
     "execution_count": 6,
     "metadata": {},
     "output_type": "execute_result"
    }
   ],
   "source": [
    "# выведем названия колонок\n",
    "data.columns"
   ]
  },
  {
   "cell_type": "code",
   "execution_count": 7,
   "metadata": {},
   "outputs": [],
   "source": [
    "# переименуем колонки в соответствии с общепринятыми требованиями\n",
    "data = data.rename(columns={'Пол': 'gender', 'Возраст': 'age', 'Зарплата': 'salary', 'Члены семьи': 'family_members', 'Страховые выплаты': 'insurance_payments'})"
   ]
  },
  {
   "cell_type": "code",
   "execution_count": 8,
   "metadata": {},
   "outputs": [
    {
     "data": {
      "text/plain": [
       "gender                0\n",
       "age                   0\n",
       "salary                0\n",
       "family_members        0\n",
       "insurance_payments    0\n",
       "dtype: int64"
      ]
     },
     "execution_count": 8,
     "metadata": {},
     "output_type": "execute_result"
    }
   ],
   "source": [
    "# определим количество пропусков\n",
    "data.isna().sum()"
   ]
  },
  {
   "cell_type": "code",
   "execution_count": 9,
   "metadata": {
    "scrolled": true
   },
   "outputs": [
    {
     "data": {
      "text/plain": [
       "19.0    223\n",
       "25.0    214\n",
       "31.0    212\n",
       "26.0    211\n",
       "27.0    209\n",
       "22.0    209\n",
       "32.0    206\n",
       "28.0    204\n",
       "29.0    203\n",
       "30.0    202\n",
       "23.0    202\n",
       "21.0    200\n",
       "20.0    195\n",
       "36.0    193\n",
       "33.0    191\n",
       "24.0    182\n",
       "35.0    179\n",
       "34.0    177\n",
       "37.0    147\n",
       "39.0    141\n",
       "38.0    139\n",
       "41.0    129\n",
       "18.0    117\n",
       "40.0    114\n",
       "42.0     93\n",
       "43.0     77\n",
       "44.0     74\n",
       "45.0     73\n",
       "46.0     60\n",
       "47.0     47\n",
       "49.0     37\n",
       "50.0     27\n",
       "48.0     26\n",
       "52.0     22\n",
       "51.0     21\n",
       "53.0     11\n",
       "55.0      9\n",
       "54.0      7\n",
       "56.0      5\n",
       "59.0      3\n",
       "60.0      2\n",
       "58.0      2\n",
       "57.0      2\n",
       "65.0      1\n",
       "61.0      1\n",
       "62.0      1\n",
       "Name: age, dtype: int64"
      ]
     },
     "execution_count": 9,
     "metadata": {},
     "output_type": "execute_result"
    }
   ],
   "source": [
    "#  посмотрим на столбец age\n",
    "data['age'].value_counts()"
   ]
  },
  {
   "cell_type": "code",
   "execution_count": 10,
   "metadata": {},
   "outputs": [
    {
     "data": {
      "text/plain": [
       "0    2505\n",
       "1    2495\n",
       "Name: gender, dtype: int64"
      ]
     },
     "execution_count": 10,
     "metadata": {},
     "output_type": "execute_result"
    }
   ],
   "source": [
    "#  посмотрим на столбец gender\n",
    "data['gender'].value_counts()"
   ]
  },
  {
   "cell_type": "code",
   "execution_count": 11,
   "metadata": {},
   "outputs": [
    {
     "data": {
      "text/plain": [
       "count     5000.000000\n",
       "mean     39916.360000\n",
       "std       9900.083569\n",
       "min       5300.000000\n",
       "25%      33300.000000\n",
       "50%      40200.000000\n",
       "75%      46600.000000\n",
       "max      79000.000000\n",
       "Name: salary, dtype: float64"
      ]
     },
     "execution_count": 11,
     "metadata": {},
     "output_type": "execute_result"
    }
   ],
   "source": [
    "#  посмотрим на столбец salary\n",
    "data['salary'].describe()"
   ]
  },
  {
   "cell_type": "code",
   "execution_count": 12,
   "metadata": {},
   "outputs": [
    {
     "data": {
      "text/plain": [
       "1    1814\n",
       "0    1513\n",
       "2    1071\n",
       "3     439\n",
       "4     124\n",
       "5      32\n",
       "6       7\n",
       "Name: family_members, dtype: int64"
      ]
     },
     "execution_count": 12,
     "metadata": {},
     "output_type": "execute_result"
    }
   ],
   "source": [
    "#  посмотрим на столбец family_members\n",
    "data['family_members'].value_counts()"
   ]
  },
  {
   "cell_type": "code",
   "execution_count": 13,
   "metadata": {},
   "outputs": [
    {
     "data": {
      "text/plain": [
       "0    4436\n",
       "1     423\n",
       "2     115\n",
       "3      18\n",
       "4       7\n",
       "5       1\n",
       "Name: insurance_payments, dtype: int64"
      ]
     },
     "execution_count": 13,
     "metadata": {},
     "output_type": "execute_result"
    }
   ],
   "source": [
    "#  посмотрим на столбец insurance_payments\n",
    "data['insurance_payments'].value_counts()"
   ]
  },
  {
   "cell_type": "code",
   "execution_count": 14,
   "metadata": {},
   "outputs": [],
   "source": [
    "# изменим тип данных в поле Возраст на int64\n",
    "data['age'] = data['age'].astype('int64')\n",
    "data['salary'] = data['salary'].astype('int64')"
   ]
  },
  {
   "cell_type": "code",
   "execution_count": 15,
   "metadata": {},
   "outputs": [
    {
     "data": {
      "text/plain": [
       "153"
      ]
     },
     "execution_count": 15,
     "metadata": {},
     "output_type": "execute_result"
    }
   ],
   "source": [
    "# проверим дубликаты\n",
    "data.duplicated().sum()"
   ]
  },
  {
   "cell_type": "markdown",
   "metadata": {},
   "source": [
    "В наших данных 153 дубликата. Удалим их."
   ]
  },
  {
   "cell_type": "code",
   "execution_count": 16,
   "metadata": {},
   "outputs": [],
   "source": [
    "# удаление дубликатов\n",
    "data.drop_duplicates(inplace=True)"
   ]
  },
  {
   "cell_type": "code",
   "execution_count": 17,
   "metadata": {},
   "outputs": [
    {
     "name": "stdout",
     "output_type": "stream",
     "text": [
      "<class 'pandas.core.frame.DataFrame'>\n",
      "Int64Index: 4847 entries, 0 to 4999\n",
      "Data columns (total 5 columns):\n",
      " #   Column              Non-Null Count  Dtype\n",
      "---  ------              --------------  -----\n",
      " 0   gender              4847 non-null   int64\n",
      " 1   age                 4847 non-null   int64\n",
      " 2   salary              4847 non-null   int64\n",
      " 3   family_members      4847 non-null   int64\n",
      " 4   insurance_payments  4847 non-null   int64\n",
      "dtypes: int64(5)\n",
      "memory usage: 227.2 KB\n"
     ]
    }
   ],
   "source": [
    "# проверим удаление дубликатов\n",
    "data.info()"
   ]
  },
  {
   "cell_type": "markdown",
   "metadata": {},
   "source": [
    "### Вывод"
   ]
  },
  {
   "cell_type": "markdown",
   "metadata": {},
   "source": [
    "В ходе выполнения данного раздела, мы прочитали данные из файла, проверили их и получили следующее:\n",
    "\n",
    "1) переименовали названия столбцов для удобства работы в дальнейшем\n",
    "\n",
    "2) определели размер таблицы (5 столбцов и 4847 строк, после удаления дубликатов), посмотрели состав колонок (gender, age, salary, family_members, insurance_payments), ошибок в данных обнаружено не было\n",
    "\n",
    "3) отсутствую пропуски\n",
    "\n",
    "4) изменили тип данных в столбце возраст, так как в данном столбце возраст хранится целым числом."
   ]
  },
  {
   "cell_type": "markdown",
   "metadata": {},
   "source": [
    "## Умножение матриц"
   ]
  },
  {
   "cell_type": "markdown",
   "metadata": {},
   "source": [
    "В этом задании вы можете записывать формулы в *Jupyter Notebook.*\n",
    "\n",
    "Чтобы записать формулу внутри текста, окружите её символами доллара \\\\$; если снаружи —  двойными символами \\\\$\\\\$. Эти формулы записываются на языке вёрстки *LaTeX.* \n",
    "\n",
    "Для примера мы записали формулы линейной регрессии. Можете их скопировать и отредактировать, чтобы решить задачу.\n",
    "\n",
    "Работать в *LaTeX* необязательно."
   ]
  },
  {
   "cell_type": "markdown",
   "metadata": {},
   "source": [
    "Обозначения:\n",
    "\n",
    "- $X$ — матрица признаков (нулевой столбец состоит из единиц)\n",
    "\n",
    "- $y$ — вектор целевого признака\n",
    "\n",
    "- $P$ — матрица, на которую умножаются признаки\n",
    "\n",
    "- $w$ — вектор весов линейной регрессии (нулевой элемент равен сдвигу)"
   ]
  },
  {
   "cell_type": "markdown",
   "metadata": {},
   "source": [
    "Предсказания:\n",
    "\n",
    "$$\n",
    "a = Xw\n",
    "$$\n",
    "\n",
    "Задача обучения:\n",
    "\n",
    "$$\n",
    "w = \\arg\\min_w MSE(Xw, y)\n",
    "$$\n",
    "\n",
    "Формула обучения:\n",
    "\n",
    "$$\n",
    "w = (X^T X)^{-1} X^T y\n",
    "$$"
   ]
  },
  {
   "cell_type": "markdown",
   "metadata": {},
   "source": [
    "**Ответ:** при умножении признаков на обратимую матрицу качество линейной регрессии не меняется\n",
    "\n",
    "**Обоснование:** обоснуем данное утверждение формулой расчета весов для линейной регресси.\n",
    "Для того, чтобы правильно решить данную формулу уточним основные свойства матриц:\n",
    "\n",
    "1) $(AB)^{-1} = (B)^{-1}(A)^{-1}$\n",
    "\n",
    "2) $(AB)^T = B^T A^T$\n",
    "\n",
    "3) $AA^{-1} = E$\n",
    "\n",
    "Предсказания:\n",
    "\n",
    "$$\n",
    "a = Xw\n",
    "$$\n",
    "\n",
    "Вектор весов линейной регрессии:\n",
    "\n",
    "$$\n",
    "w = (X^T X)^{-1}X^T y\n",
    "$$\n",
    "\n",
    "Представим новую матрицу признаков X1 как произведение исходной матрицы пррзнаков Х на обратимую матрицу Р:\n",
    "\n",
    "$$\n",
    "X1 = XP\n",
    "$$\n",
    "\n",
    "Далее подставим полученное значение Х1 в вектор весов линейной регрессии w1:\n",
    "\n",
    "$$\n",
    "w1 = ((XP)^T(XP))^{-1}(XP)^Ty\n",
    "$$\n",
    "\n",
    "Будем раскрывать скобки постепенно в соответствии с указанными выше свойствами матриц. Для начала раскрем первую скобку $(XP)^Y$:\n",
    "\n",
    "$$\n",
    "w1 = (P^T X^T XP)^{-1}(XP)^Ty\n",
    "$$\n",
    "\n",
    "Для наглядности перегруппируем множители в скобке:\n",
    "\n",
    "$$\n",
    "w1 = (P^T(X^T X)P)^{-1}(XP)^Ty\n",
    "$$\n",
    "\n",
    "В соответствии со свойставми матриц раскроем скобки $(P^T(X^TX)P)^{-1}$:\n",
    "\n",
    "$$\n",
    "w1 = P^{-1}(X^TX)^{-1}(P^T)^{-1}(XP)^Ty\n",
    "$$\n",
    "\n",
    "Раскроем последнюю скобку $(XP)^T$:\n",
    "\n",
    "$$\n",
    "w1 = P^{-1}(X^TX)^{-1}(P^T)^{-1}P^TX^Ty\n",
    "$$\n",
    "\n",
    "Так как по условию задачи матрица Р обратимая, то исходя из свойства матриц номер 3, указанных выше. То есть произведение матрицы на обратимую матрицу должно быть равно единичной матрице Е. Получаем, что $(P^T)^{-1}P^T = E$. Преобразуем наше выражение:\n",
    "\n",
    "$$\n",
    "w1 = P^{-1}(X^TX)^{-1}EX^Ty = P^{-1}(X^TX)^{-1}X^Ty\n",
    "$$\n",
    "\n",
    "Как можно удидеть, в данной формуле мы получили формулу для вектора весов линейной регрессии $w = (X^T X)^{-1}X^T y$, таком образом получаем:\n",
    "\n",
    "$$\n",
    "P^{-1}(X^TX)^{-1}X^Ty = P^{-1}w\n",
    "$$\n",
    "\n",
    "Если в формулу предскания а подставить значения X1 и w1, то мы получим следующее предсказание а1 для новой модели:\n",
    "\n",
    "$$\n",
    "a1 = X1w1 = XPP^{-1}w\n",
    "$$\n",
    "\n",
    "Так как Р по условию задачи обратима, то исхлдя из своийств матриц мы можем заменить выржение $PP^{-1}$ на единичную матрицу Е, тогда:\n",
    "\n",
    "$$\n",
    "a1 = XPP^{-1} = XEw = Xw = a\n",
    "$$\n",
    "\n",
    "Таким образом мы доказали, что предсказания а1 для матрицы признаков, умноженное на обратимую матрицу Р, равны предсказаниям а. Исходя из этого можно сделать вывод, что при умножении признаков на обратимую матрицу качество модели линейной регрессии не изменится. Таким образом, мы можем разработать алгоритм для шифрования персональных данных клиентов."
   ]
  },
  {
   "cell_type": "markdown",
   "metadata": {},
   "source": [
    "## Алгоритм преобразования"
   ]
  },
  {
   "cell_type": "markdown",
   "metadata": {},
   "source": [
    "**Алгоритм**\n",
    "\n",
    "В качестве алгоритма предобразования можно предложить следующее: \n",
    "\n",
    "1) разделим данные для обучения\n",
    "\n",
    "2) создадим случайную матрицу, проверим ее на обратимость\n",
    "\n",
    "3) обучим модель на исходной матрице и рассчитаем значение r2_score\n",
    "\n",
    "4) случайную матрицу умножим на признаки исходной матрицы\n",
    "\n",
    "5) обучим модель на полученных признаках и рассчитаем значение r2_score\n",
    "\n",
    "6) сравним полученные метрики между собой.\n",
    "\n",
    "Если характеристики r2_score будут одинаковыми, то данный алгоритм можно использовать для шифрования данных клиентов."
   ]
  },
  {
   "cell_type": "markdown",
   "metadata": {},
   "source": [
    "**Обоснование**\n",
    "\n",
    "Исходя из теоретического доказательства формулы выше, можно предположить, что благодаря предложенному аалгоритму преобразования мы должны получить похожие значения метрик. Для подтверждения нашей гипотезы будет сравнивать между собой r2_score исходной матрицы и r2_score случайной матрицы (зашифрованные признаки). Если значения не будут различаться или различаться незначительно, то мы подтвердим доказательство формулы выше. Это будет означать, что разработанный нами алгоритм можно применять для шифровани данных."
   ]
  },
  {
   "cell_type": "markdown",
   "metadata": {},
   "source": [
    "## Проверка алгоритма"
   ]
  },
  {
   "cell_type": "code",
   "execution_count": 18,
   "metadata": {},
   "outputs": [],
   "source": [
    "# разделим данные\n",
    "features = data.drop('insurance_payments', axis=1)\n",
    "target = data['insurance_payments']"
   ]
  },
  {
   "cell_type": "code",
   "execution_count": 19,
   "metadata": {},
   "outputs": [],
   "source": [
    "# разделим полученную выборку на обучающую и тестовую\n",
    "features_train, features_test, target_train, target_test = train_test_split(features, target, test_size=0.25, random_state=12345)"
   ]
  },
  {
   "cell_type": "code",
   "execution_count": 20,
   "metadata": {},
   "outputs": [
    {
     "name": "stdout",
     "output_type": "stream",
     "text": [
      "Обучающая выборка: (3635, 4), (3635,)\n",
      "Тестовая выборка: (1212, 4), (1212,)\n"
     ]
    }
   ],
   "source": [
    "# проверим, что размеры признаков и целевых признаков в выборках совпадают\n",
    "print(f'Обучающая выборка: {features_train.shape}, {target_train.shape}')\n",
    "print(f'Тестовая выборка: {features_test.shape}, {target_test.shape}')"
   ]
  },
  {
   "cell_type": "code",
   "execution_count": 21,
   "metadata": {},
   "outputs": [],
   "source": [
    "# создадим рандомную матрицу\n",
    "matrix = np.random.normal(size = (features.shape[1], features.shape[1]))"
   ]
  },
  {
   "cell_type": "code",
   "execution_count": 22,
   "metadata": {},
   "outputs": [],
   "source": [
    "# проверим ее на обратимость\n",
    "matrix = np.linalg.inv(matrix)"
   ]
  },
  {
   "cell_type": "raw",
   "metadata": {},
   "source": [
    "def generate_invertible_matrix(size):\n",
    "    try:\n",
    "        matrix = np.random.normal(size=(size, size))\n",
    "        # проверим матрицу на обратимость, если нет, пробуем сгенерировать еще раз\n",
    "        # таким образом гарантируем, что матрица стопроцентно будет обратимой\n",
    "        np.linalg.inv(matrix)\n",
    "    except np.linalg.LinAlgError:\n",
    "        matrix = generate_invertible_matrix()\n",
    "    \n",
    "    return matrix"
   ]
  },
  {
   "cell_type": "code",
   "execution_count": 23,
   "metadata": {},
   "outputs": [
    {
     "name": "stdout",
     "output_type": "stream",
     "text": [
      "r2_score на исходных, незашифрованных признаках: 0.43215820265809746\n"
     ]
    }
   ],
   "source": [
    "# обучим модель на исходных, незашифрованных признаках\n",
    "model = LinearRegression()\n",
    "model.fit(features_train, target_train)\n",
    "predictions_train = model.predict(features_train)\n",
    "r2_score_train = r2_score(target_train, predictions_train)\n",
    "print(f'r2_score на исходных, незашифрованных признаках: {r2_score_train}')"
   ]
  },
  {
   "cell_type": "code",
   "execution_count": 24,
   "metadata": {},
   "outputs": [],
   "source": [
    "# умножим исходную матрицу на случайную \n",
    "transform_features_train = features_train @ matrix"
   ]
  },
  {
   "cell_type": "code",
   "execution_count": 25,
   "metadata": {},
   "outputs": [
    {
     "name": "stdout",
     "output_type": "stream",
     "text": [
      "r2_score на новых, зашифрованных признаках: 0.43215820265810523\n"
     ]
    }
   ],
   "source": [
    "# обучим модель на новых, зашифрованных признаках\n",
    "model.fit(transform_features_train, target_train)\n",
    "predictions_train_transform = model.predict(transform_features_train)\n",
    "r2_score_train_transform = r2_score(target_train, predictions_train_transform)\n",
    "print(f'r2_score на новых, зашифрованных признаках: {r2_score_train_transform}')"
   ]
  },
  {
   "cell_type": "code",
   "execution_count": 26,
   "metadata": {},
   "outputs": [
    {
     "name": "stdout",
     "output_type": "stream",
     "text": [
      "Разность между признаками -7.771561172376096e-15\n"
     ]
    }
   ],
   "source": [
    "# определим, есть ли разность между полученными данными\n",
    "print('Разность между признаками', r2_score_train - r2_score_train_transform)"
   ]
  },
  {
   "cell_type": "markdown",
   "metadata": {},
   "source": [
    "**Вывод:** как видим, разность между признаками исходной и матрицы, полученной умножением на случайную матрицу (обратимую матрицу) практически отсутсвует. Это говорит о том, что на практике мы подтвердили теоретическое доказательсво того, что при умножении признаков на обратимую матрицу качество линейной регрессии не меняется."
   ]
  },
  {
   "cell_type": "markdown",
   "metadata": {},
   "source": [
    "###  Проверка на тестовой выборке"
   ]
  },
  {
   "cell_type": "markdown",
   "metadata": {},
   "source": [
    "Проверим наши модели на тестовой выборке."
   ]
  },
  {
   "cell_type": "code",
   "execution_count": 27,
   "metadata": {},
   "outputs": [
    {
     "name": "stdout",
     "output_type": "stream",
     "text": [
      "r2_score на исходных, незашифрованных признаках: 0.425552801076332\n"
     ]
    }
   ],
   "source": [
    "model = LinearRegression()\n",
    "model.fit(features_test, target_test)\n",
    "predictions_test = model.predict(features_test)\n",
    "r2_score_test = r2_score(target_test, predictions_test)\n",
    "print(f'r2_score на исходных, незашифрованных признаках: {r2_score_test}')"
   ]
  },
  {
   "cell_type": "code",
   "execution_count": 28,
   "metadata": {},
   "outputs": [],
   "source": [
    "# умножим исходную матрицу на случайную \n",
    "transform_features_test = features_test @ matrix"
   ]
  },
  {
   "cell_type": "code",
   "execution_count": 29,
   "metadata": {},
   "outputs": [
    {
     "name": "stdout",
     "output_type": "stream",
     "text": [
      "r2_score на новых, зашифрованных признаках: 0.4255528010763243\n"
     ]
    }
   ],
   "source": [
    "# обучим модель на новых, зашифрованных признаках\n",
    "model.fit(transform_features_test, target_test)\n",
    "predictions_test_transform = model.predict(transform_features_test)\n",
    "r2_score_test_transform = r2_score(target_test, predictions_test_transform)\n",
    "print(f'r2_score на новых, зашифрованных признаках: {r2_score_test_transform}')"
   ]
  },
  {
   "cell_type": "code",
   "execution_count": 30,
   "metadata": {},
   "outputs": [
    {
     "name": "stdout",
     "output_type": "stream",
     "text": [
      "Разность между признаками 7.66053886991358e-15\n"
     ]
    }
   ],
   "source": [
    "# определим, есть ли разность между полученными данными\n",
    "print('Разность между признаками', r2_score_test - r2_score_test_transform)"
   ]
  },
  {
   "cell_type": "markdown",
   "metadata": {},
   "source": [
    "Как видим и на тестовой выборке мы получили похожие знаачения r2_score и похожую разницу между показателями. Таким образом, мы еще раз подтвердили, что что при умножении признаков на обратимую матрицу качество линейной регрессии не меняется. Наш алгоритм можно использовать для шифрования данных клиентов"
   ]
  },
  {
   "cell_type": "markdown",
   "metadata": {},
   "source": [
    "## Вывод"
   ]
  },
  {
   "cell_type": "markdown",
   "metadata": {},
   "source": [
    "В ходе выполнения работы, мы:\n",
    "\n",
    "1) проанализировали данные, увидели, что данные впорядке, за исключение дубликатов, которые были устранены\n",
    "\n",
    "2) выдвинули предположение о том, что при умножении признаков на обратимую матрицу качество линейной регрессии не меняется\n",
    "\n",
    "3) теоретически доказали правильность данного утверждения\n",
    "\n",
    "4) разработали алгоритм, на основании которого можно практически доказать верность утверждения\n",
    "\n",
    "5) подготовили данные для обученяи моделей\n",
    "\n",
    "6) обучили модели и проверили поведение модели, при умножении исходных признаком на случайную обратимую матрицу\n",
    "\n",
    "7) получили одинаковые данные и таким образом на практике доказали, что при умножении признаков на обратимую матрицу качество линейной регрессии не меняется\n",
    "\n",
    "8) на тестовой выборке проверили верность наших расчетов и доказательств\n",
    "\n",
    "Такми образом, при умножении признаков на обратимую матрицу качество линейной регрессии не меняется и разработанный нами алгоритм можно применять для шифровани данных клиентов"
   ]
  }
 ],
 "metadata": {
  "ExecuteTimeLog": [
   {
    "duration": 487,
    "start_time": "2022-04-29T21:30:48.619Z"
   },
   {
    "duration": 115,
    "start_time": "2022-04-29T21:31:39.759Z"
   },
   {
    "duration": 15,
    "start_time": "2022-04-29T21:31:54.227Z"
   },
   {
    "duration": 29,
    "start_time": "2022-04-29T21:31:58.599Z"
   },
   {
    "duration": 14,
    "start_time": "2022-04-29T21:32:06.227Z"
   },
   {
    "duration": 5,
    "start_time": "2022-04-29T21:32:18.607Z"
   },
   {
    "duration": 18,
    "start_time": "2022-04-29T21:32:24.667Z"
   },
   {
    "duration": 8,
    "start_time": "2022-04-29T21:32:37.587Z"
   },
   {
    "duration": 9,
    "start_time": "2022-04-29T21:33:25.520Z"
   },
   {
    "duration": 371,
    "start_time": "2022-05-02T20:44:17.937Z"
   },
   {
    "duration": 16,
    "start_time": "2022-05-02T20:44:18.310Z"
   },
   {
    "duration": 14,
    "start_time": "2022-05-02T20:44:18.328Z"
   },
   {
    "duration": 5,
    "start_time": "2022-05-02T20:44:18.343Z"
   },
   {
    "duration": 10,
    "start_time": "2022-05-02T20:44:18.349Z"
   },
   {
    "duration": 5,
    "start_time": "2022-05-02T20:44:18.360Z"
   },
   {
    "duration": 6,
    "start_time": "2022-05-02T20:44:18.366Z"
   },
   {
    "duration": 13,
    "start_time": "2022-05-02T20:44:18.373Z"
   },
   {
    "duration": 3,
    "start_time": "2022-05-02T20:45:13.947Z"
   },
   {
    "duration": 13,
    "start_time": "2022-05-02T20:49:58.387Z"
   },
   {
    "duration": 2086,
    "start_time": "2022-05-02T20:50:44.109Z"
   },
   {
    "duration": 6,
    "start_time": "2022-05-02T20:51:00.734Z"
   },
   {
    "duration": 1954,
    "start_time": "2022-05-02T20:51:00.877Z"
   },
   {
    "duration": 0,
    "start_time": "2022-05-02T20:51:02.834Z"
   },
   {
    "duration": 12,
    "start_time": "2022-05-02T20:51:16.320Z"
   },
   {
    "duration": 4,
    "start_time": "2022-05-02T20:51:30.738Z"
   },
   {
    "duration": 6,
    "start_time": "2022-05-02T20:51:33.054Z"
   },
   {
    "duration": 11,
    "start_time": "2022-05-02T20:51:34.803Z"
   },
   {
    "duration": 7,
    "start_time": "2022-05-02T20:51:40.137Z"
   },
   {
    "duration": 3,
    "start_time": "2022-05-02T20:51:43.732Z"
   },
   {
    "duration": 11,
    "start_time": "2022-05-02T20:51:48.983Z"
   },
   {
    "duration": 5,
    "start_time": "2022-05-02T21:01:34.982Z"
   },
   {
    "duration": 8,
    "start_time": "2022-05-02T21:01:58.623Z"
   },
   {
    "duration": 5,
    "start_time": "2022-05-02T21:02:31.668Z"
   },
   {
    "duration": 10,
    "start_time": "2022-05-02T21:03:14.773Z"
   },
   {
    "duration": 5,
    "start_time": "2022-05-02T21:03:33.296Z"
   },
   {
    "duration": 6,
    "start_time": "2022-05-02T22:14:06.677Z"
   },
   {
    "duration": 6,
    "start_time": "2022-05-02T22:15:11.948Z"
   },
   {
    "duration": 14,
    "start_time": "2022-05-02T22:15:21.668Z"
   },
   {
    "duration": 555,
    "start_time": "2022-05-03T21:39:14.818Z"
   },
   {
    "duration": 25,
    "start_time": "2022-05-03T21:39:15.376Z"
   },
   {
    "duration": 39,
    "start_time": "2022-05-03T21:39:15.403Z"
   },
   {
    "duration": 7,
    "start_time": "2022-05-03T21:39:15.445Z"
   },
   {
    "duration": 17,
    "start_time": "2022-05-03T21:39:15.456Z"
   },
   {
    "duration": 5,
    "start_time": "2022-05-03T21:39:15.475Z"
   },
   {
    "duration": 51,
    "start_time": "2022-05-03T21:39:15.482Z"
   },
   {
    "duration": 13,
    "start_time": "2022-05-03T21:39:15.537Z"
   },
   {
    "duration": 13,
    "start_time": "2022-05-03T21:39:15.552Z"
   },
   {
    "duration": 11,
    "start_time": "2022-05-03T21:39:15.567Z"
   },
   {
    "duration": 11,
    "start_time": "2022-05-03T21:39:15.580Z"
   },
   {
    "duration": 14,
    "start_time": "2022-05-03T21:39:15.626Z"
   },
   {
    "duration": 11,
    "start_time": "2022-05-03T21:39:15.642Z"
   },
   {
    "duration": 7,
    "start_time": "2022-05-03T21:39:15.656Z"
   },
   {
    "duration": 11,
    "start_time": "2022-05-03T21:39:15.665Z"
   },
   {
    "duration": 11,
    "start_time": "2022-05-03T21:39:15.678Z"
   },
   {
    "duration": 50,
    "start_time": "2022-05-03T21:39:15.692Z"
   },
   {
    "duration": 136,
    "start_time": "2022-05-03T21:39:15.744Z"
   },
   {
    "duration": 5,
    "start_time": "2022-05-03T21:39:48.717Z"
   },
   {
    "duration": 10,
    "start_time": "2022-05-03T21:42:32.743Z"
   },
   {
    "duration": 1098,
    "start_time": "2022-05-03T21:43:56.965Z"
   },
   {
    "duration": 4,
    "start_time": "2022-05-03T21:44:30.203Z"
   },
   {
    "duration": 5,
    "start_time": "2022-05-03T21:44:36.578Z"
   },
   {
    "duration": 14,
    "start_time": "2022-05-03T21:49:46.458Z"
   },
   {
    "duration": 6,
    "start_time": "2022-05-03T21:50:57.224Z"
   },
   {
    "duration": 59,
    "start_time": "2022-05-03T21:52:13.073Z"
   },
   {
    "duration": 6,
    "start_time": "2022-05-03T21:53:14.009Z"
   },
   {
    "duration": 16,
    "start_time": "2022-05-03T21:53:20.333Z"
   },
   {
    "duration": 73,
    "start_time": "2022-05-03T21:53:26.054Z"
   },
   {
    "duration": 1554,
    "start_time": "2022-05-03T21:53:38.172Z"
   },
   {
    "duration": 16,
    "start_time": "2022-05-03T21:53:39.729Z"
   },
   {
    "duration": 25,
    "start_time": "2022-05-03T21:53:39.747Z"
   },
   {
    "duration": 7,
    "start_time": "2022-05-03T21:53:39.775Z"
   },
   {
    "duration": 18,
    "start_time": "2022-05-03T21:53:39.784Z"
   },
   {
    "duration": 6,
    "start_time": "2022-05-03T21:53:39.825Z"
   },
   {
    "duration": 8,
    "start_time": "2022-05-03T21:53:39.833Z"
   },
   {
    "duration": 15,
    "start_time": "2022-05-03T21:53:39.843Z"
   },
   {
    "duration": 12,
    "start_time": "2022-05-03T21:53:39.860Z"
   },
   {
    "duration": 8,
    "start_time": "2022-05-03T21:53:39.875Z"
   },
   {
    "duration": 43,
    "start_time": "2022-05-03T21:53:39.885Z"
   },
   {
    "duration": 10,
    "start_time": "2022-05-03T21:53:39.930Z"
   },
   {
    "duration": 9,
    "start_time": "2022-05-03T21:53:39.942Z"
   },
   {
    "duration": 9,
    "start_time": "2022-05-03T21:53:39.953Z"
   },
   {
    "duration": 9,
    "start_time": "2022-05-03T21:53:39.965Z"
   },
   {
    "duration": 7,
    "start_time": "2022-05-03T21:53:39.976Z"
   },
   {
    "duration": 14,
    "start_time": "2022-05-03T21:53:40.025Z"
   },
   {
    "duration": 10,
    "start_time": "2022-05-03T21:53:40.042Z"
   },
   {
    "duration": 8,
    "start_time": "2022-05-03T21:53:40.054Z"
   },
   {
    "duration": 75,
    "start_time": "2022-05-03T21:53:40.064Z"
   },
   {
    "duration": 5,
    "start_time": "2022-05-03T21:53:40.227Z"
   },
   {
    "duration": 419,
    "start_time": "2022-05-03T21:53:40.234Z"
   },
   {
    "duration": 7,
    "start_time": "2022-05-03T21:54:36.749Z"
   },
   {
    "duration": 13,
    "start_time": "2022-05-03T21:54:51.324Z"
   },
   {
    "duration": 6,
    "start_time": "2022-05-03T21:55:17.804Z"
   },
   {
    "duration": 367,
    "start_time": "2022-05-03T21:57:55.222Z"
   },
   {
    "duration": 5,
    "start_time": "2022-05-03T22:02:25.022Z"
   },
   {
    "duration": 6,
    "start_time": "2022-05-03T22:02:31.746Z"
   },
   {
    "duration": 5,
    "start_time": "2022-05-03T22:04:42.404Z"
   },
   {
    "duration": 6,
    "start_time": "2022-05-03T22:04:47.786Z"
   },
   {
    "duration": 3,
    "start_time": "2022-05-03T22:06:59.992Z"
   },
   {
    "duration": 6,
    "start_time": "2022-05-03T22:07:12.969Z"
   },
   {
    "duration": 5,
    "start_time": "2022-05-03T22:07:45.943Z"
   },
   {
    "duration": 6,
    "start_time": "2022-05-03T22:07:50.957Z"
   },
   {
    "duration": 4,
    "start_time": "2022-05-03T22:08:17.325Z"
   },
   {
    "duration": 6,
    "start_time": "2022-05-03T22:08:22.234Z"
   },
   {
    "duration": 95,
    "start_time": "2022-05-03T22:08:27.132Z"
   },
   {
    "duration": 4,
    "start_time": "2022-05-03T22:09:03.091Z"
   },
   {
    "duration": 17,
    "start_time": "2022-05-03T22:09:03.978Z"
   },
   {
    "duration": 15,
    "start_time": "2022-05-03T22:09:07.115Z"
   },
   {
    "duration": 6,
    "start_time": "2022-05-03T22:09:09.370Z"
   },
   {
    "duration": 30,
    "start_time": "2022-05-03T22:09:10.606Z"
   },
   {
    "duration": 4,
    "start_time": "2022-05-03T22:30:14.792Z"
   },
   {
    "duration": 20,
    "start_time": "2022-05-03T22:30:15.865Z"
   },
   {
    "duration": 20,
    "start_time": "2022-05-03T22:30:22.308Z"
   },
   {
    "duration": 6,
    "start_time": "2022-05-03T22:30:29.932Z"
   },
   {
    "duration": 14,
    "start_time": "2022-05-03T22:37:21.846Z"
   },
   {
    "duration": 14,
    "start_time": "2022-05-03T22:37:28.064Z"
   },
   {
    "duration": 4,
    "start_time": "2022-05-03T22:38:40.276Z"
   },
   {
    "duration": 11,
    "start_time": "2022-05-03T22:38:48.232Z"
   },
   {
    "duration": 7,
    "start_time": "2022-05-03T22:39:12.509Z"
   },
   {
    "duration": 173,
    "start_time": "2022-05-03T22:39:43.263Z"
   },
   {
    "duration": 5,
    "start_time": "2022-05-03T22:40:36.376Z"
   },
   {
    "duration": 6,
    "start_time": "2022-05-03T22:40:37.365Z"
   },
   {
    "duration": 5,
    "start_time": "2022-05-03T22:40:50.527Z"
   },
   {
    "duration": 7,
    "start_time": "2022-05-03T22:41:10.298Z"
   },
   {
    "duration": 27,
    "start_time": "2022-05-03T22:41:31.199Z"
   },
   {
    "duration": 5,
    "start_time": "2022-05-03T22:42:15.017Z"
   },
   {
    "duration": 6,
    "start_time": "2022-05-03T22:48:50.772Z"
   },
   {
    "duration": 4,
    "start_time": "2022-05-03T22:49:49.692Z"
   },
   {
    "duration": 12,
    "start_time": "2022-05-03T22:49:53.515Z"
   },
   {
    "duration": 186,
    "start_time": "2022-05-03T22:49:53.641Z"
   },
   {
    "duration": 38,
    "start_time": "2022-05-03T22:51:52.287Z"
   },
   {
    "duration": 19,
    "start_time": "2022-05-03T22:52:36.332Z"
   },
   {
    "duration": 6,
    "start_time": "2022-05-03T22:53:20.404Z"
   },
   {
    "duration": 9,
    "start_time": "2022-05-03T22:53:38.084Z"
   },
   {
    "duration": 8,
    "start_time": "2022-05-03T22:54:08.341Z"
   },
   {
    "duration": 206,
    "start_time": "2022-05-03T22:57:21.121Z"
   },
   {
    "duration": 1672,
    "start_time": "2022-05-03T22:58:05.172Z"
   },
   {
    "duration": 18,
    "start_time": "2022-05-03T22:58:06.848Z"
   },
   {
    "duration": 33,
    "start_time": "2022-05-03T22:58:06.869Z"
   },
   {
    "duration": 31,
    "start_time": "2022-05-03T22:58:06.906Z"
   },
   {
    "duration": 27,
    "start_time": "2022-05-03T22:58:06.939Z"
   },
   {
    "duration": 10,
    "start_time": "2022-05-03T22:58:06.969Z"
   },
   {
    "duration": 9,
    "start_time": "2022-05-03T22:58:06.981Z"
   },
   {
    "duration": 12,
    "start_time": "2022-05-03T22:58:06.993Z"
   },
   {
    "duration": 15,
    "start_time": "2022-05-03T22:58:07.023Z"
   },
   {
    "duration": 15,
    "start_time": "2022-05-03T22:58:07.044Z"
   },
   {
    "duration": 19,
    "start_time": "2022-05-03T22:58:07.062Z"
   },
   {
    "duration": 9,
    "start_time": "2022-05-03T22:58:07.084Z"
   },
   {
    "duration": 12,
    "start_time": "2022-05-03T22:58:07.132Z"
   },
   {
    "duration": 18,
    "start_time": "2022-05-03T22:58:07.147Z"
   },
   {
    "duration": 12,
    "start_time": "2022-05-03T22:58:07.168Z"
   },
   {
    "duration": 8,
    "start_time": "2022-05-03T22:58:07.183Z"
   },
   {
    "duration": 43,
    "start_time": "2022-05-03T22:58:07.194Z"
   },
   {
    "duration": 12,
    "start_time": "2022-05-03T22:58:07.240Z"
   },
   {
    "duration": 8,
    "start_time": "2022-05-03T22:58:07.255Z"
   },
   {
    "duration": 6,
    "start_time": "2022-05-03T22:58:07.266Z"
   },
   {
    "duration": 6,
    "start_time": "2022-05-03T22:58:07.274Z"
   },
   {
    "duration": 48,
    "start_time": "2022-05-03T22:58:07.282Z"
   },
   {
    "duration": 5,
    "start_time": "2022-05-03T22:58:07.333Z"
   },
   {
    "duration": 89,
    "start_time": "2022-05-03T22:58:07.340Z"
   },
   {
    "duration": 96,
    "start_time": "2022-05-03T22:58:07.433Z"
   },
   {
    "duration": 19,
    "start_time": "2022-05-03T22:58:07.532Z"
   },
   {
    "duration": 8,
    "start_time": "2022-05-03T22:58:07.554Z"
   },
   {
    "duration": 296,
    "start_time": "2022-05-03T22:58:07.568Z"
   },
   {
    "duration": 0,
    "start_time": "2022-05-03T22:58:07.867Z"
   },
   {
    "duration": 0,
    "start_time": "2022-05-03T22:58:07.869Z"
   },
   {
    "duration": 0,
    "start_time": "2022-05-03T22:58:07.870Z"
   },
   {
    "duration": 0,
    "start_time": "2022-05-03T22:58:07.872Z"
   },
   {
    "duration": 6,
    "start_time": "2022-05-03T22:58:44.474Z"
   },
   {
    "duration": 6,
    "start_time": "2022-05-03T22:58:45.170Z"
   },
   {
    "duration": 8,
    "start_time": "2022-05-03T22:58:46.636Z"
   },
   {
    "duration": 13,
    "start_time": "2022-05-03T22:59:08.148Z"
   },
   {
    "duration": 7,
    "start_time": "2022-05-03T22:59:28.736Z"
   },
   {
    "duration": 3,
    "start_time": "2022-05-03T23:04:08.313Z"
   },
   {
    "duration": 4,
    "start_time": "2022-05-03T23:04:08.488Z"
   },
   {
    "duration": 212,
    "start_time": "2022-05-03T23:04:08.712Z"
   },
   {
    "duration": 14,
    "start_time": "2022-05-03T23:05:10.006Z"
   },
   {
    "duration": 16,
    "start_time": "2022-05-03T23:05:21.065Z"
   },
   {
    "duration": 7,
    "start_time": "2022-05-03T23:05:32.400Z"
   },
   {
    "duration": 1536,
    "start_time": "2022-05-03T23:06:11.018Z"
   },
   {
    "duration": 15,
    "start_time": "2022-05-03T23:06:12.557Z"
   },
   {
    "duration": 24,
    "start_time": "2022-05-03T23:06:12.574Z"
   },
   {
    "duration": 4,
    "start_time": "2022-05-03T23:06:12.601Z"
   },
   {
    "duration": 29,
    "start_time": "2022-05-03T23:06:12.608Z"
   },
   {
    "duration": 9,
    "start_time": "2022-05-03T23:06:12.640Z"
   },
   {
    "duration": 8,
    "start_time": "2022-05-03T23:06:12.651Z"
   },
   {
    "duration": 11,
    "start_time": "2022-05-03T23:06:12.661Z"
   },
   {
    "duration": 12,
    "start_time": "2022-05-03T23:06:12.674Z"
   },
   {
    "duration": 45,
    "start_time": "2022-05-03T23:06:12.688Z"
   },
   {
    "duration": 19,
    "start_time": "2022-05-03T23:06:12.735Z"
   },
   {
    "duration": 7,
    "start_time": "2022-05-03T23:06:12.757Z"
   },
   {
    "duration": 15,
    "start_time": "2022-05-03T23:06:12.765Z"
   },
   {
    "duration": 6,
    "start_time": "2022-05-03T23:06:12.785Z"
   },
   {
    "duration": 44,
    "start_time": "2022-05-03T23:06:12.793Z"
   },
   {
    "duration": 13,
    "start_time": "2022-05-03T23:06:12.839Z"
   },
   {
    "duration": 14,
    "start_time": "2022-05-03T23:06:12.855Z"
   },
   {
    "duration": 8,
    "start_time": "2022-05-03T23:06:12.871Z"
   },
   {
    "duration": 5,
    "start_time": "2022-05-03T23:06:12.882Z"
   },
   {
    "duration": 177,
    "start_time": "2022-05-03T23:06:12.889Z"
   },
   {
    "duration": 0,
    "start_time": "2022-05-03T23:06:13.068Z"
   },
   {
    "duration": 0,
    "start_time": "2022-05-03T23:06:13.069Z"
   },
   {
    "duration": 0,
    "start_time": "2022-05-03T23:06:13.071Z"
   },
   {
    "duration": 0,
    "start_time": "2022-05-03T23:06:13.073Z"
   },
   {
    "duration": 0,
    "start_time": "2022-05-03T23:06:13.074Z"
   },
   {
    "duration": 0,
    "start_time": "2022-05-03T23:06:13.075Z"
   },
   {
    "duration": 0,
    "start_time": "2022-05-03T23:06:13.078Z"
   },
   {
    "duration": 0,
    "start_time": "2022-05-03T23:06:13.079Z"
   },
   {
    "duration": 0,
    "start_time": "2022-05-03T23:06:13.080Z"
   },
   {
    "duration": 0,
    "start_time": "2022-05-03T23:06:13.082Z"
   },
   {
    "duration": 0,
    "start_time": "2022-05-03T23:06:13.084Z"
   },
   {
    "duration": 0,
    "start_time": "2022-05-03T23:06:13.086Z"
   },
   {
    "duration": 0,
    "start_time": "2022-05-03T23:06:13.087Z"
   },
   {
    "duration": 0,
    "start_time": "2022-05-03T23:06:13.128Z"
   },
   {
    "duration": 0,
    "start_time": "2022-05-03T23:06:13.129Z"
   },
   {
    "duration": 0,
    "start_time": "2022-05-03T23:06:13.130Z"
   },
   {
    "duration": 0,
    "start_time": "2022-05-03T23:06:13.132Z"
   },
   {
    "duration": 0,
    "start_time": "2022-05-03T23:06:13.141Z"
   },
   {
    "duration": 0,
    "start_time": "2022-05-03T23:06:13.142Z"
   },
   {
    "duration": 4,
    "start_time": "2022-05-03T23:06:31.880Z"
   },
   {
    "duration": 4,
    "start_time": "2022-05-03T23:06:32.648Z"
   },
   {
    "duration": 25,
    "start_time": "2022-05-03T23:06:33.273Z"
   },
   {
    "duration": 13,
    "start_time": "2022-05-03T23:06:35.675Z"
   },
   {
    "duration": 3,
    "start_time": "2022-05-03T23:06:58.660Z"
   },
   {
    "duration": 15,
    "start_time": "2022-05-03T23:07:12.574Z"
   },
   {
    "duration": 7,
    "start_time": "2022-05-03T23:07:51.875Z"
   },
   {
    "duration": 6,
    "start_time": "2022-05-03T23:07:55.275Z"
   },
   {
    "duration": 6,
    "start_time": "2022-05-03T23:07:56.207Z"
   },
   {
    "duration": 6,
    "start_time": "2022-05-03T23:07:56.389Z"
   },
   {
    "duration": 5,
    "start_time": "2022-05-03T23:07:56.594Z"
   },
   {
    "duration": 3,
    "start_time": "2022-05-03T23:07:56.811Z"
   },
   {
    "duration": 109,
    "start_time": "2022-05-03T23:08:07.438Z"
   },
   {
    "duration": 4,
    "start_time": "2022-05-03T23:08:09.622Z"
   },
   {
    "duration": 5,
    "start_time": "2022-05-03T23:08:20.238Z"
   },
   {
    "duration": 5,
    "start_time": "2022-05-03T23:08:25.226Z"
   },
   {
    "duration": 135,
    "start_time": "2022-05-03T23:08:34.620Z"
   },
   {
    "duration": 33,
    "start_time": "2022-05-03T23:08:47.057Z"
   },
   {
    "duration": 116,
    "start_time": "2022-05-03T23:10:14.166Z"
   },
   {
    "duration": 4,
    "start_time": "2022-05-03T23:10:21.557Z"
   },
   {
    "duration": 4,
    "start_time": "2022-05-03T23:10:22.748Z"
   },
   {
    "duration": 178,
    "start_time": "2022-05-03T23:10:24.964Z"
   },
   {
    "duration": 1941,
    "start_time": "2022-05-03T23:11:02.064Z"
   },
   {
    "duration": 21,
    "start_time": "2022-05-03T23:11:04.007Z"
   },
   {
    "duration": 29,
    "start_time": "2022-05-03T23:11:04.031Z"
   },
   {
    "duration": 6,
    "start_time": "2022-05-03T23:11:04.064Z"
   },
   {
    "duration": 23,
    "start_time": "2022-05-03T23:11:04.072Z"
   },
   {
    "duration": 9,
    "start_time": "2022-05-03T23:11:04.129Z"
   },
   {
    "duration": 12,
    "start_time": "2022-05-03T23:11:04.144Z"
   },
   {
    "duration": 14,
    "start_time": "2022-05-03T23:11:04.159Z"
   },
   {
    "duration": 18,
    "start_time": "2022-05-03T23:11:04.175Z"
   },
   {
    "duration": 31,
    "start_time": "2022-05-03T23:11:04.198Z"
   },
   {
    "duration": 24,
    "start_time": "2022-05-03T23:11:04.233Z"
   },
   {
    "duration": 8,
    "start_time": "2022-05-03T23:11:04.260Z"
   },
   {
    "duration": 12,
    "start_time": "2022-05-03T23:11:04.270Z"
   },
   {
    "duration": 12,
    "start_time": "2022-05-03T23:11:04.284Z"
   },
   {
    "duration": 40,
    "start_time": "2022-05-03T23:11:04.299Z"
   },
   {
    "duration": 10,
    "start_time": "2022-05-03T23:11:04.344Z"
   },
   {
    "duration": 30,
    "start_time": "2022-05-03T23:11:04.357Z"
   },
   {
    "duration": 6,
    "start_time": "2022-05-03T23:11:04.390Z"
   },
   {
    "duration": 28,
    "start_time": "2022-05-03T23:11:04.398Z"
   },
   {
    "duration": 21,
    "start_time": "2022-05-03T23:11:04.428Z"
   },
   {
    "duration": 11,
    "start_time": "2022-05-03T23:11:04.454Z"
   },
   {
    "duration": 12,
    "start_time": "2022-05-03T23:11:04.468Z"
   },
   {
    "duration": 22,
    "start_time": "2022-05-03T23:11:04.482Z"
   },
   {
    "duration": 20,
    "start_time": "2022-05-03T23:11:04.506Z"
   },
   {
    "duration": 18,
    "start_time": "2022-05-03T23:11:04.528Z"
   },
   {
    "duration": 182,
    "start_time": "2022-05-03T23:11:04.550Z"
   },
   {
    "duration": 8,
    "start_time": "2022-05-03T23:11:04.737Z"
   },
   {
    "duration": 33,
    "start_time": "2022-05-03T23:11:04.824Z"
   },
   {
    "duration": 1195,
    "start_time": "2022-05-04T14:49:16.758Z"
   },
   {
    "duration": 11,
    "start_time": "2022-05-04T14:49:17.955Z"
   },
   {
    "duration": 17,
    "start_time": "2022-05-04T14:49:17.968Z"
   },
   {
    "duration": 4,
    "start_time": "2022-05-04T14:49:17.987Z"
   },
   {
    "duration": 18,
    "start_time": "2022-05-04T14:49:17.994Z"
   },
   {
    "duration": 4,
    "start_time": "2022-05-04T14:49:18.015Z"
   },
   {
    "duration": 5,
    "start_time": "2022-05-04T14:49:18.021Z"
   },
   {
    "duration": 31,
    "start_time": "2022-05-04T14:49:18.028Z"
   },
   {
    "duration": 9,
    "start_time": "2022-05-04T14:49:18.061Z"
   },
   {
    "duration": 5,
    "start_time": "2022-05-04T14:49:18.072Z"
   },
   {
    "duration": 12,
    "start_time": "2022-05-04T14:49:18.079Z"
   },
   {
    "duration": 7,
    "start_time": "2022-05-04T14:49:18.093Z"
   },
   {
    "duration": 6,
    "start_time": "2022-05-04T14:49:18.102Z"
   },
   {
    "duration": 44,
    "start_time": "2022-05-04T14:49:18.111Z"
   },
   {
    "duration": 9,
    "start_time": "2022-05-04T14:49:18.156Z"
   },
   {
    "duration": 5,
    "start_time": "2022-05-04T14:49:18.166Z"
   },
   {
    "duration": 8,
    "start_time": "2022-05-04T14:49:18.173Z"
   },
   {
    "duration": 5,
    "start_time": "2022-05-04T14:49:18.183Z"
   },
   {
    "duration": 7,
    "start_time": "2022-05-04T14:49:18.190Z"
   },
   {
    "duration": 8,
    "start_time": "2022-05-04T14:49:18.198Z"
   },
   {
    "duration": 5,
    "start_time": "2022-05-04T14:49:18.208Z"
   },
   {
    "duration": 5,
    "start_time": "2022-05-04T14:49:18.215Z"
   },
   {
    "duration": 4,
    "start_time": "2022-05-04T14:49:18.254Z"
   },
   {
    "duration": 7,
    "start_time": "2022-05-04T14:49:18.259Z"
   },
   {
    "duration": 7,
    "start_time": "2022-05-04T14:49:18.267Z"
   },
   {
    "duration": 189,
    "start_time": "2022-05-04T14:49:18.276Z"
   },
   {
    "duration": 88,
    "start_time": "2022-05-04T14:49:18.467Z"
   },
   {
    "duration": 169,
    "start_time": "2022-05-04T14:49:18.557Z"
   },
   {
    "duration": 17,
    "start_time": "2022-05-04T14:50:06.464Z"
   },
   {
    "duration": 3,
    "start_time": "2022-05-04T14:51:33.811Z"
   },
   {
    "duration": 22,
    "start_time": "2022-05-04T14:51:34.778Z"
   },
   {
    "duration": 3,
    "start_time": "2022-05-04T14:52:53.768Z"
   },
   {
    "duration": 3,
    "start_time": "2022-05-04T14:59:04.727Z"
   },
   {
    "duration": 3,
    "start_time": "2022-05-04T14:59:39.413Z"
   },
   {
    "duration": 32,
    "start_time": "2022-05-04T15:00:25.351Z"
   },
   {
    "duration": 8,
    "start_time": "2022-05-04T15:01:58.608Z"
   },
   {
    "duration": 3,
    "start_time": "2022-05-04T15:04:32.560Z"
   },
   {
    "duration": 19,
    "start_time": "2022-05-04T15:04:33.255Z"
   },
   {
    "duration": 10,
    "start_time": "2022-05-04T15:05:17.846Z"
   },
   {
    "duration": 10,
    "start_time": "2022-05-04T15:10:40.197Z"
   },
   {
    "duration": 4,
    "start_time": "2022-05-04T15:10:52.593Z"
   },
   {
    "duration": 12,
    "start_time": "2022-05-04T15:11:30.510Z"
   },
   {
    "duration": 4,
    "start_time": "2022-05-04T15:12:04.942Z"
   },
   {
    "duration": 4,
    "start_time": "2022-05-04T15:12:22.222Z"
   },
   {
    "duration": 1314,
    "start_time": "2022-05-04T15:25:39.638Z"
   },
   {
    "duration": 12,
    "start_time": "2022-05-04T15:25:40.954Z"
   },
   {
    "duration": 79,
    "start_time": "2022-05-04T15:25:40.967Z"
   },
   {
    "duration": 12,
    "start_time": "2022-05-04T15:25:41.048Z"
   },
   {
    "duration": 28,
    "start_time": "2022-05-04T15:25:41.062Z"
   },
   {
    "duration": 10,
    "start_time": "2022-05-04T15:25:41.091Z"
   },
   {
    "duration": 25,
    "start_time": "2022-05-04T15:25:41.103Z"
   },
   {
    "duration": 22,
    "start_time": "2022-05-04T15:25:41.129Z"
   },
   {
    "duration": 16,
    "start_time": "2022-05-04T15:25:41.153Z"
   },
   {
    "duration": 21,
    "start_time": "2022-05-04T15:25:41.171Z"
   },
   {
    "duration": 14,
    "start_time": "2022-05-04T15:25:41.194Z"
   },
   {
    "duration": 6,
    "start_time": "2022-05-04T15:25:41.210Z"
   },
   {
    "duration": 42,
    "start_time": "2022-05-04T15:25:41.218Z"
   },
   {
    "duration": 16,
    "start_time": "2022-05-04T15:25:41.264Z"
   },
   {
    "duration": 31,
    "start_time": "2022-05-04T15:25:41.282Z"
   },
   {
    "duration": 17,
    "start_time": "2022-05-04T15:25:41.315Z"
   },
   {
    "duration": 14,
    "start_time": "2022-05-04T15:25:41.334Z"
   },
   {
    "duration": 16,
    "start_time": "2022-05-04T15:25:41.351Z"
   },
   {
    "duration": 90,
    "start_time": "2022-05-04T15:25:41.369Z"
   },
   {
    "duration": 21,
    "start_time": "2022-05-04T15:25:41.461Z"
   },
   {
    "duration": 19,
    "start_time": "2022-05-04T15:25:41.485Z"
   },
   {
    "duration": 29,
    "start_time": "2022-05-04T15:25:41.506Z"
   },
   {
    "duration": 117,
    "start_time": "2022-05-04T15:25:41.538Z"
   },
   {
    "duration": 105,
    "start_time": "2022-05-04T15:25:41.657Z"
   },
   {
    "duration": 16,
    "start_time": "2022-05-04T15:25:41.764Z"
   },
   {
    "duration": 81,
    "start_time": "2022-05-04T15:25:41.782Z"
   },
   {
    "duration": 102,
    "start_time": "2022-05-04T15:25:41.865Z"
   },
   {
    "duration": 8,
    "start_time": "2022-05-04T15:25:41.969Z"
   },
   {
    "duration": 43,
    "start_time": "2022-05-04T15:25:41.978Z"
   },
   {
    "duration": 8,
    "start_time": "2022-05-04T15:25:42.022Z"
   },
   {
    "duration": 2805,
    "start_time": "2022-05-05T09:47:37.231Z"
   },
   {
    "duration": 13,
    "start_time": "2022-05-05T09:47:40.038Z"
   },
   {
    "duration": 16,
    "start_time": "2022-05-05T09:47:40.053Z"
   },
   {
    "duration": 4,
    "start_time": "2022-05-05T09:47:40.071Z"
   },
   {
    "duration": 14,
    "start_time": "2022-05-05T09:47:40.077Z"
   },
   {
    "duration": 16,
    "start_time": "2022-05-05T09:47:40.093Z"
   },
   {
    "duration": 6,
    "start_time": "2022-05-05T09:47:40.111Z"
   },
   {
    "duration": 7,
    "start_time": "2022-05-05T09:47:40.192Z"
   },
   {
    "duration": 9,
    "start_time": "2022-05-05T09:47:40.427Z"
   },
   {
    "duration": 6,
    "start_time": "2022-05-05T09:47:40.665Z"
   },
   {
    "duration": 8,
    "start_time": "2022-05-05T09:47:41.189Z"
   },
   {
    "duration": 5,
    "start_time": "2022-05-05T09:47:41.589Z"
   },
   {
    "duration": 6,
    "start_time": "2022-05-05T09:47:41.777Z"
   },
   {
    "duration": 5,
    "start_time": "2022-05-05T09:47:42.019Z"
   },
   {
    "duration": 7,
    "start_time": "2022-05-05T09:47:42.260Z"
   },
   {
    "duration": 6,
    "start_time": "2022-05-05T09:47:42.670Z"
   },
   {
    "duration": 9,
    "start_time": "2022-05-05T09:47:42.916Z"
   },
   {
    "duration": 4,
    "start_time": "2022-05-05T09:49:04.772Z"
   },
   {
    "duration": 5,
    "start_time": "2022-05-05T09:49:05.493Z"
   },
   {
    "duration": 5,
    "start_time": "2022-05-05T09:49:06.064Z"
   },
   {
    "duration": 3,
    "start_time": "2022-05-05T09:49:06.865Z"
   },
   {
    "duration": 4,
    "start_time": "2022-05-05T09:49:07.286Z"
   },
   {
    "duration": 11,
    "start_time": "2022-05-05T09:49:07.472Z"
   },
   {
    "duration": 3,
    "start_time": "2022-05-05T09:49:07.674Z"
   },
   {
    "duration": 10,
    "start_time": "2022-05-05T09:49:07.821Z"
   },
   {
    "duration": 3,
    "start_time": "2022-05-05T09:49:07.992Z"
   },
   {
    "duration": 8,
    "start_time": "2022-05-05T09:49:08.683Z"
   },
   {
    "duration": 3,
    "start_time": "2022-05-05T09:49:08.801Z"
   },
   {
    "duration": 8,
    "start_time": "2022-05-05T09:49:08.960Z"
   },
   {
    "duration": 3,
    "start_time": "2022-05-05T09:49:09.134Z"
   }
  ],
  "kernelspec": {
   "display_name": "Python 3 (ipykernel)",
   "language": "python",
   "name": "python3"
  },
  "language_info": {
   "codemirror_mode": {
    "name": "ipython",
    "version": 3
   },
   "file_extension": ".py",
   "mimetype": "text/x-python",
   "name": "python",
   "nbconvert_exporter": "python",
   "pygments_lexer": "ipython3",
   "version": "3.10.9"
  },
  "toc": {
   "base_numbering": 1,
   "nav_menu": {},
   "number_sections": true,
   "sideBar": true,
   "skip_h1_title": true,
   "title_cell": "Содержание",
   "title_sidebar": "Contents",
   "toc_cell": true,
   "toc_position": {},
   "toc_section_display": true,
   "toc_window_display": true
  }
 },
 "nbformat": 4,
 "nbformat_minor": 2
}
